{
 "cells": [
  {
   "cell_type": "code",
   "execution_count": 1,
   "metadata": {},
   "outputs": [
    {
     "data": {
      "text/html": [
       "<tt>n = 1 [kmol]<br>T = 273.15 [K]<br>p = 101.325 [kPa]<br></tt>"
      ]
     },
     "execution_count": 1,
     "metadata": {},
     "output_type": "execute_result"
    }
   ],
   "source": [
    "# An example of a simple dimensional analysis problem.\n",
    "\n",
    "# We use an example from thermodynamics, and want to find the volume of\n",
    "#   a certain quantity of gas at a certain temperature and pressure\n",
    "\n",
    "# Lets' start by defining these quantities\n",
    "n = 1[kmol]   # 1000 mols of gas\n",
    "T = _zeroC    # zero degrees Celsius\n",
    "p = 1[atm]    # not an SI unit, but it is convenient to use here"
   ]
  },
  {
   "cell_type": "code",
   "execution_count": 2,
   "metadata": {},
   "outputs": [
    {
     "data": {
      "text/html": [
       "<tt><font color=#FF5733>No solution found for analysis problem<br></font></tt>"
      ]
     },
     "execution_count": 2,
     "metadata": {},
     "output_type": "execute_result"
    }
   ],
   "source": [
    "# note how the pressure was automatically converted to kile Pascal, an\n",
    "#   SI unit, since by default we are shown outputs in SI units\n",
    "\n",
    "# Now we try to find ways to compute the dimensions of a volume\n",
    "#  (in [m³]) from the quantities we have defined\n",
    "\n",
    "analyze [m^3] {n,T,p}"
   ]
  },
  {
   "cell_type": "code",
   "execution_count": 3,
   "metadata": {},
   "outputs": [
    {
     "data": {
      "text/html": [
       "<tt>8.31446 [kg m² s⁻² K⁻¹ mol⁻¹]<br></tt>"
      ]
     },
     "execution_count": 3,
     "metadata": {},
     "output_type": "execute_result"
    }
   ],
   "source": [
    "# There is no solution!\n",
    "# there simply is no way to combine only n, T, and p to obtain\n",
    "#   dimensions of volume\n",
    "\n",
    "# This means there must be some natural constant missing.\n",
    "# Indeed, this is the universal gas constant R:\n",
    "_R"
   ]
  },
  {
   "cell_type": "code",
   "execution_count": 4,
   "metadata": {},
   "outputs": [
    {
     "data": {
      "text/html": [
       "<tt>_0 = n * _R * T * p⁻¹ = 22.414 [m³]<br></tt>"
      ]
     },
     "execution_count": 4,
     "metadata": {},
     "output_type": "execute_result"
    }
   ],
   "source": [
    "# Let's try the analysis again, with throwing the universal gas\n",
    "#   constant into the mix\n",
    "\n",
    "analyze [m^3] {n,_R,T,p}"
   ]
  },
  {
   "cell_type": "code",
   "execution_count": 5,
   "metadata": {},
   "outputs": [
    {
     "data": {
      "text/html": [
       "<tt></tt>"
      ]
     },
     "execution_count": 5,
     "metadata": {},
     "output_type": "execute_result"
    }
   ],
   "source": [
    "# this time we have a unique solution: V = n R T / p\n",
    "# we have just \"discovered\" the ideal gas law..."
   ]
  },
  {
   "cell_type": "code",
   "execution_count": null,
   "metadata": {},
   "outputs": [],
   "source": []
  }
 ],
 "metadata": {
  "kernelspec": {
   "display_name": "DACalculator",
   "language": "dacalc",
   "name": "dacalc"
  },
  "language_info": {
   "file_extension": ".da",
   "mimetype": "text/plain",
   "name": "dacalc"
  }
 },
 "nbformat": 4,
 "nbformat_minor": 4
}

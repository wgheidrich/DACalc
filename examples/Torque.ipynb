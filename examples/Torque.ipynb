{
 "cells": [
  {
   "cell_type": "code",
   "execution_count": 1,
   "metadata": {},
   "outputs": [
    {
     "data": {
      "text/html": [
       "<tt>m = 5 [kg]<br>l = 500 [mm]<br></tt>"
      ]
     },
     "execution_count": 1,
     "metadata": {},
     "output_type": "execute_result"
    }
   ],
   "source": [
    "# example dimensional analysis script\n",
    "\n",
    "# define a mass and a lever length\n",
    "m = 5[kg]\n",
    "l = 0.5[m]"
   ]
  },
  {
   "cell_type": "code",
   "execution_count": 2,
   "metadata": {},
   "outputs": [
    {
     "data": {
      "text/html": [
       "<tt>F = 49.0332 [N]<br></tt>"
      ]
     },
     "execution_count": 2,
     "metadata": {},
     "output_type": "execute_result"
    }
   ],
   "source": [
    "# gravitational force using standard gravity constant\n",
    "F = m * _g"
   ]
  },
  {
   "cell_type": "code",
   "execution_count": 3,
   "metadata": {},
   "outputs": [
    {
     "data": {
      "text/html": [
       "<tt>T = 24.5166 [J]<br></tt>"
      ]
     },
     "execution_count": 3,
     "metadata": {},
     "output_type": "execute_result"
    }
   ],
   "source": [
    "# torque\n",
    "T = F * l"
   ]
  },
  {
   "cell_type": "code",
   "execution_count": 4,
   "metadata": {},
   "outputs": [
    {
     "data": {
      "text/html": [
       "<tt>24.5166 [N m]<br></tt>"
      ]
     },
     "execution_count": 4,
     "metadata": {},
     "output_type": "execute_result"
    }
   ],
   "source": [
    "# torques should be expressed in [N m] rather than [J]\n",
    "# we can do this as a one-time conversion\n",
    "[N m] T"
   ]
  },
  {
   "cell_type": "code",
   "execution_count": 5,
   "metadata": {},
   "outputs": [
    {
     "data": {
      "text/html": [
       "<tt>Using [N m]<br>24.5166 [N m]<br></tt>"
      ]
     },
     "execution_count": 5,
     "metadata": {},
     "output_type": "execute_result"
    }
   ],
   "source": [
    "# or, if we work a lot with torques but not energies, then we can\n",
    "#  select [N m] as the new default unit for displaying quantities\n",
    "#  of the dimension mass*length^2/time^2:\n",
    "use [N m]\n",
    "\n",
    "# this is better\n",
    "T"
   ]
  },
  {
   "cell_type": "code",
   "execution_count": 6,
   "metadata": {},
   "outputs": [
    {
     "data": {
      "text/html": [
       "<tt>18.0825 [lbf ft]<br></tt>"
      ]
     },
     "execution_count": 6,
     "metadata": {},
     "output_type": "execute_result"
    }
   ],
   "source": [
    "# naturally we can also convert T to US units\n",
    "#  lbf is the pound-force (as opposed to lb, which is the pound-mass)\n",
    "[lbf ft] T"
   ]
  },
  {
   "cell_type": "code",
   "execution_count": 7,
   "metadata": {},
   "outputs": [
    {
     "data": {
      "text/html": [
       "<tt>New unit lb_ft = 1.35582 [N m]<br>Using [lb_ft]<br>18.0825 [lb_ft]<br></tt>"
      ]
     },
     "execution_count": 7,
     "metadata": {},
     "output_type": "execute_result"
    }
   ],
   "source": [
    "# if we work with US torques a lot we may want to define our own unit\n",
    "#  and use it as default\n",
    "def lb_ft 1 [lbf ft]\n",
    "use [lb_ft]\n",
    "\n",
    "# it works...\n",
    "T"
   ]
  },
  {
   "cell_type": "code",
   "execution_count": null,
   "metadata": {},
   "outputs": [],
   "source": []
  }
 ],
 "metadata": {
  "kernelspec": {
   "display_name": "DACalculator",
   "language": "dacalc",
   "name": "dacalc"
  },
  "language_info": {
   "file_extension": ".da",
   "mimetype": "text/plain",
   "name": "dacalc"
  }
 },
 "nbformat": 4,
 "nbformat_minor": 4
}

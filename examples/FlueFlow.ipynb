{
 "cells": [
  {
   "cell_type": "markdown",
   "metadata": {},
   "source": [
    "# Flue Flow\n",
    "\n",
    "This worksheet shows an example based on the wikipedia article on dimensional analysis:\n",
    "\n",
    "> As a more complex example, the concentration of nitrogen oxides (i.e., NO_x) in the flue gas from an industrial furnace can be converted to a mass flow rate expressed in grams per hour (i.e., g/h) of NO_x\"\n",
    "\n",
    "However, we adapt the example to be closer to the recommended use of SI units, e.g. by NIST"
   ]
  },
  {
   "cell_type": "code",
   "execution_count": 1,
   "metadata": {},
   "outputs": [
    {
     "data": {
      "text/html": [
       "<tt>concentration = 1e-05<br>mm = 0.046 [kg mol⁻¹]<br>flow_rate = 0.333333 [m³ s⁻¹]<br>T = 273.15 [K]<br>p = 101.325 [kPa]<br></tt>"
      ]
     },
     "execution_count": 1,
     "metadata": {},
     "output_type": "execute_result"
    }
   ],
   "source": [
    "# First, we define the parameters as laid out in the wikipedia example\n",
    "\n",
    "# NO_x concentration is given as \"10 parts-per-million by volume (ppmv)\"\n",
    "# the use of ppm is not recommended by SI / NIST, instead the recommended practice is to\n",
    "# directly specify volume ratios\n",
    "concentration = 10[uL] / 1[L]\n",
    "\n",
    "# NO_x molar mass\n",
    "mm = 46[kg/kmol]\n",
    "\n",
    "# flow rate of gas exiting the flue\n",
    "flow_rate = 20 [m^3/min]\n",
    "\n",
    "# temperature of gas exiting the flue listed as 0 degrees Celsius\n",
    "# (if this seems unrealistic, just play with different values!)\n",
    "T = 0[degC] + _zeroC\n",
    "\n",
    "# pressure (the authors chose standard pressure for this example)\n",
    "p = 101.325 [kPa]"
   ]
  },
  {
   "cell_type": "markdown",
   "metadata": {},
   "source": [
    "Since the original example assumes standard pressure and temperature, we know the molar volume is 22.414 \\[m^3/kmol\\]. However, we might want to be able to play with different pressures and temperatures, so in our version we use the **ideal gas law** to compute the molar volume.\n",
    "\n",
    "The volume of $n$ ideal gas molecules (where $n$ has units of \\[mol\\]) is given as\n",
    "\n",
    "$$V = n\\cdot R\\cdot T/p,$$\n",
    "\n",
    "where $R$ is the ideal gas constant. The molar volume $V_m = V/n$ is the volume per mol, i.e.\n",
    "\n",
    "$$V_m = R\\cdot T/p$$"
   ]
  },
  {
   "cell_type": "code",
   "execution_count": 2,
   "metadata": {},
   "outputs": [
    {
     "data": {
      "text/html": [
       "<tt>Vm = 22.414 [m³/kmol]<br></tt>"
      ]
     },
     "execution_count": 2,
     "metadata": {},
     "output_type": "execute_result"
    }
   ],
   "source": [
    "# we show the result in [m^3/kmol] instead of the default [m^3/mol]\n",
    "[m^3/kmol] Vm = _R * T / p"
   ]
  },
  {
   "cell_type": "code",
   "execution_count": 3,
   "metadata": {},
   "outputs": [
    {
     "data": {
      "text/html": [
       "<tt>NO_x_mass_flow = 6.84097e-06 [kg s⁻¹]<br>24.6275 [g/h]<br></tt>"
      ]
     },
     "execution_count": 3,
     "metadata": {},
     "output_type": "execute_result"
    }
   ],
   "source": [
    "# now we can compute the mass flow rate of NO_x\n",
    "NO_x_mass_flow = mm / Vm * concentration * flow_rate\n",
    "\n",
    "# we prefer to see the result in units of [g/h]\n",
    "[g/h] NO_x_mass_flow"
   ]
  },
  {
   "cell_type": "markdown",
   "metadata": {},
   "source": [
    "**Finally, let's see if we can find the same result automatically via dimensional analysis of all quantities:**"
   ]
  },
  {
   "cell_type": "code",
   "execution_count": 4,
   "metadata": {},
   "outputs": [
    {
     "data": {
      "text/html": [
       "<tt>_0 = mm * _R⁻¹ * T⁻¹ * p * flow_rate = 2.46275e+06 [g/h]<br>_1 = mm * _R⁻¹ * T⁻¹ * p * concentration * flow_rate = 24.6275 [g/h]<br>_2 = mm * _R⁻¹ * T⁻¹ * p * concentration⁻¹ * flow_rate = 2.46275e+11 [g/h]<br>_3 = mm * _R⁻¹ * T⁻¹ * p * concentration² * flow_rate = 0.000246275 [g/h]<br>_4 = mm * _R⁻¹ * T⁻¹ * p * concentration⁻² * flow_rate = 2.46275e+16 [g/h]<br>_5 = mm * _R⁻¹ * T⁻¹ * p * concentration³ * flow_rate = 2.46275e-09 [g/h]<br>_6 = mm * _R⁻¹ * T⁻¹ * p * concentration⁻³ * flow_rate = 2.46275e+21 [g/h]<br></tt>"
      ]
     },
     "execution_count": 4,
     "metadata": {},
     "output_type": "execute_result"
    }
   ],
   "source": [
    "analyze [g/h] {mm,_R,T,p,concentration,flow_rate}"
   ]
  },
  {
   "cell_type": "markdown",
   "metadata": {},
   "source": [
    "As we can see, DA comes up with multiple solutions -- since the `concentration` is a unitless quantity, it can appear with any exponent. The correct solution is the second one, which requires some extra thought, but overall should be easy to determine, since a concentration should linearly affect the flow rate we look for."
   ]
  },
  {
   "cell_type": "code",
   "execution_count": 5,
   "metadata": {},
   "outputs": [
    {
     "data": {
      "text/html": [
       "<tt>solution = 6.84097e-06 [kg s⁻¹]<br></tt>"
      ]
     },
     "execution_count": 5,
     "metadata": {},
     "output_type": "execute_result"
    }
   ],
   "source": [
    "solution = _1"
   ]
  },
  {
   "cell_type": "code",
   "execution_count": null,
   "metadata": {},
   "outputs": [],
   "source": []
  }
 ],
 "metadata": {
  "kernelspec": {
   "display_name": "DACalculator",
   "language": "dacalc",
   "name": "dacalc"
  },
  "language_info": {
   "file_extension": ".da",
   "mimetype": "text/plain",
   "name": "dacalc"
  }
 },
 "nbformat": 4,
 "nbformat_minor": 4
}

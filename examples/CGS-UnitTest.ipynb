{
 "cells": [
  {
   "cell_type": "markdown",
   "metadata": {},
   "source": [
    "# Verifying CGS system and relationship to SI units\n",
    "\n",
    "Conversion factors from the [Gaussian Units](https://en.wikipedia.org/wiki/Gaussian_units#Electromagnetic_unit_names) Wikipedia page.\n",
    "\n",
    "**Note**: the factors here are **not** the factors for finding equivalent values between the two system. They contain additional natural constants like epsilon_0 and mu_0, which are actually show up in the physical laws used to do calculations in the resepective unit systems. For example, for the charge, the equivalent charge for 1 Coulomb in Franklins is **not**\n",
    "```\n",
    "sq_eps4pi*c*1e9 [Fr]\n",
    "```\n",
    "but instead just\n",
    "```\n",
    "c*1e9 [Fr]\n",
    "```\n",
    "The extra factor of\n",
    "```\n",
    "sq_eps4pi = 2√(4*_pi*_eps_0)\n",
    "```\n",
    "is actually a term in the SI version of Coulomb's law that is not present in the CGS version."
   ]
  },
  {
   "cell_type": "code",
   "execution_count": 1,
   "metadata": {},
   "outputs": [
    {
     "data": {
      "text/html": [
       "<tt>Enabling CGS-style half dimensions for mass and length<br>New output mode: html<br>c = 2.99792<br>sq_eps4pi = 1.05482e-05 [kg<sup>-0.5</sup> m<sup>-1.5</sup> s<sup>2</sup> A]<br>sq_mu4pi = 0.00397384 [kg<sup>0.5</sup> m<sup>0.5</sup> s<sup>-1</sup> A<sup>-1</sup>]<br>sq_4pi_eps = 1.19133e+06 [kg<sup>0.5</sup> m<sup>1.5</sup> s<sup>-2</sup> A<sup>-1</sup>]<br>sq_4pi_mu = 3162.28 [kg<sup>-0.5</sup> m<sup>-0.5</sup> s A]<br></tt>"
      ]
     },
     "execution_count": 1,
     "metadata": {},
     "output_type": "execute_result"
    }
   ],
   "source": [
    "use halfdim\n",
    "output html\n",
    "\n",
    "# some common terms\n",
    "c = _c*1e-10[s/cm]\n",
    "sq_eps4pi = 2√(4*_pi*_eps_0)\n",
    "sq_mu4pi = 2√(4*_pi*_mu_0)\n",
    "sq_4pi_eps = 2√(4*_pi/_eps_0)\n",
    "sq_4pi_mu = 2√(4*_pi/_mu_0)"
   ]
  },
  {
   "cell_type": "code",
   "execution_count": 2,
   "metadata": {},
   "outputs": [
    {
     "data": {
      "text/html": [
       "<tt>Using [V/m]<br>Using [C/m²]<br>Using [A/m]<br>Using [Ohm m]<br></tt>"
      ]
     },
     "execution_count": 2,
     "metadata": {},
     "output_type": "execute_result"
    }
   ],
   "source": [
    "# some convenient units for SI fields and resistivity\n",
    "use [V/m]\n",
    "use [C/m²]\n",
    "use [A/m]\n",
    "use [Ohm m]"
   ]
  },
  {
   "cell_type": "code",
   "execution_count": 3,
   "metadata": {},
   "outputs": [
    {
     "data": {
      "text/html": [
       "<tt><br>Charge: Franklin and statCoulomb to Coulomb<br>q1 = 1 [C]<br>q2 = 1 [C]<br><br>Current: Franklin/second and statAmpere to Ampere<br>I1 = 1 [A]<br>I2 = 1 [A]<br><br>Voltage: statVolt to Volt<br>V = 1 [V]<br><br>Electric field: statVolt/cm to Volt/m<br>E = 1 [V/m]<br><br>Electric displacement field: Franklins/cm² to Coulomb/m²<br>  (same as statCoulomb/cm²)<br>D = 1 [C/m²]<br><br>Magnetic B field: Gauss to Tesla<br>B = 1 [T]<br><br>Magnetic H field: Oersted to Ampere/m<br>H = 1 [A/m]<br><br>Magnetic dipole moment: erg/Gauss to Ampere-m²<br>m = 1 [m<sup>2</sup> A]<br><br>Magnetic flux: to Gauss-cm² to Weber<br>theta = 1 [Wb]<br><br>Resistance: seconds/cm to Ohm<br>R = 1 [Ohm]<br><br>Resistivity: seconds to Ohm-meters<br>rho = 1 [Ohm m]<br><br>Capacitance: cm to Farad<br>C = 1 [F]<br><br>Inductance: second²/cm to Henry<br>L = 1 [H]<br></tt>"
      ]
     },
     "execution_count": 3,
     "metadata": {},
     "output_type": "execute_result"
    }
   ],
   "source": [
    "# each of these should yield a numerical value of 1 in the corresponding SI unit\n",
    "\n",
    "\"\\nCharge: Franklin and statCoulomb to Coulomb\"\n",
    "q1 = sq_eps4pi*c*1e9 [Fr]\n",
    "q2 = sq_eps4pi*c*1e9 [statC]\n",
    "\n",
    "\"\\nCurrent: Franklin/second and statAmpere to Ampere\"\n",
    "I1 = sq_eps4pi*c*1e9 [Fr/s]\n",
    "I2 = sq_eps4pi*c*1e9 [statA]\n",
    "\n",
    "\"\\nVoltage: statVolt to Volt\"\n",
    "V = (1e-2 / (c*sq_eps4pi)) [statV]\n",
    "\n",
    "\"\\nElectric field: statVolt/cm to Volt/m\"\n",
    "E = (1e-4 / (c*sq_eps4pi)) [statV/cm]\n",
    "\n",
    "\"\\nElectric displacement field: Franklins/cm² to Coulomb/m²\"\n",
    "\"  (same as statCoulomb/cm²)\"\n",
    "D = (4*_pi * c * 1e5 / sq_4pi_eps) [Fr/cm²]\n",
    "\n",
    "\"\\nMagnetic B field: Gauss to Tesla\"\n",
    "B = (1e4 / sq_4pi_mu) [G]\n",
    "\n",
    "\"\\nMagnetic H field: Oersted to Ampere/m\"\n",
    "H = (4*_pi * 1e-3 / sq_mu4pi) [Oe]\n",
    "\n",
    "\"\\nMagnetic dipole moment: erg/Gauss to Ampere-m²\"\n",
    "m = sq_4pi_mu * 1e3 [erg/G]\n",
    "\n",
    "\"\\nMagnetic flux: to Gauss-cm² to Weber\"\n",
    "theta = (1e8 / sq_4pi_mu) [G cm²]\n",
    "\n",
    "\"\\nResistance: seconds/cm to Ohm\"\n",
    "R = (1e-11 / (sq_eps4pi * c)²) [s/cm]\n",
    "\n",
    "\"\\nResistivity: seconds to Ohm-meters\"\n",
    "rho = (1e-9 / (sq_eps4pi * c)²) [s]\n",
    "\n",
    "\"\\nCapacitance: cm to Farad\"\n",
    "C = (sq_eps4pi*c)² * 1e11 [cm]\n",
    "\n",
    "\"\\nInductance: second²/cm to Henry\"\n",
    "L = (1e-11 / (sq_eps4pi * c)²) [s²/cm]"
   ]
  },
  {
   "cell_type": "markdown",
   "metadata": {},
   "source": [
    "------\n",
    "\n",
    "## The following is a list of the actual equivalence conversion factors.\n"
   ]
  },
  {
   "cell_type": "code",
   "execution_count": 4,
   "metadata": {},
   "outputs": [
    {
     "data": {
      "text/html": [
       "<tt>qf = 94802.7 [kg<sup>0.5</sup> m<sup>1.5</sup> s<sup>-2</sup> A<sup>-1</sup>]<br>If = 94802.7 [kg<sup>0.5</sup> m<sup>1.5</sup> s<sup>-2</sup> A<sup>-1</sup>]<br>Vf = 1.05482e-05 [kg<sup>-0.5</sup> m<sup>-1.5</sup> s<sup>2</sup> A]<br>Ef = 1.05482e-05 [kg<sup>-0.5</sup> m<sup>-1.5</sup> s<sup>2</sup> A]<br>Df = 1.19133e+06 [kg<sup>0.5</sup> m<sup>1.5</sup> s<sup>-2</sup> A<sup>-1</sup>]<br>Bf = 3162.28 [kg<sup>-0.5</sup> m<sup>-0.5</sup> s A]<br>Hf = 0.00397384 [kg<sup>0.5</sup> m<sup>0.5</sup> s<sup>-1</sup> A<sup>-1</sup>]<br>mf = 0.000316228 [kg<sup>0.5</sup> m<sup>0.5</sup> s<sup>-1</sup> A<sup>-1</sup>]<br>thetaf = 316228 [kg<sup>-0.5</sup> m<sup>-1.5</sup> s A]<br>Rf = 1.11265e-10 [kg<sup>-1</sup> m<sup>-3</sup> s<sup>4</sup> A<sup>2</sup>]<br>rhof = 1.11265e-10 [kg<sup>-1</sup> m<sup>-3</sup> s<sup>4</sup> A<sup>2</sup>]<br>Cf = 8.98755e+09 [kg m<sup>3</sup> s<sup>-4</sup> A<sup>-2</sup>]<br>Lf = 1.11265e-10 [kg<sup>-1</sup> m<sup>-3</sup> s<sup>4</sup> A<sup>2</sup>]<br><br><br>As one can see, several conversion factors are dimensionally identical, but numerically different. Therefore conversion has to be resolved by specific rules on a case-by-case basis, dimensional analysis is not useful in this context due to the dimensional ambiguities in the CGS susbsystems.<br><hr><font size=7><br>&tau;ο &tau;&epsilon;&lambda;ο&varsigma;.<br></font><br></tt>"
      ]
     },
     "execution_count": 4,
     "metadata": {},
     "output_type": "execute_result"
    }
   ],
   "source": [
    "# Charge: Franklin and statCoulomb to Coulomb\n",
    "qf = c*1e9[Fr/C]\n",
    "\n",
    "# Current: Franklin/second and statAmpere to Ampere\n",
    "If = c*1e9[Fr/A s]\n",
    "\n",
    "# Voltage: statVolt to Volt\n",
    "Vf = (1e-2 / c) [statV / V]\n",
    "\n",
    "# Electric field: statVolt/cm to Volt/m\n",
    "Ef = (1e-4 / c) [statV m / V cm]\n",
    "\n",
    "# Electric displacement field: Franklins/cm² to Coulomb/m²\n",
    "# (same as statCoulomb/cm²)\n",
    "Df = (4*_pi * c * 1e5) [Fr m² / C cm²]\n",
    "\n",
    "# Magnetic B field: Gauss to Tesla\n",
    "Bf = 1e4 [G/T]\n",
    "\n",
    "# Magnetic H field: Oersted to Ampere/m\n",
    "Hf = (4*_pi * 1e-3) [Oe m / A]\n",
    "\n",
    "# Magnetic dipole moment: erg/Gauss to Ampere-m²\n",
    "mf = 1e3 [erg / G A m²]\n",
    "\n",
    "# Magnetic flux: to Gauss-cm² to Weber\n",
    "thetaf = 1e8 [G cm / Wb]\n",
    "\n",
    "# Resistance: seconds/cm to Ohm\n",
    "Rf = (1e-11 / c²) [s / Ohm cm]\n",
    "\n",
    "# Resistivity: seconds to Ohm-meters\n",
    "rhof = (1e-9 / c²) [s / Ohm m]\n",
    "\n",
    "# Capacitance: cm to Farad\n",
    "Cf = c² * 1e11 [cm / F]\n",
    "\n",
    "# Inductance: second²/cm to Henry\n",
    "Lf = (1e-11 / c²) [s² / cm H]\n",
    "\n",
    "\"\\n\\nAs one can see, several conversion factors are dimensionally identical, but numerically different. Therefore conversion has to be resolved by specific rules on a case-by-case basis, dimensional analysis is not useful in this context due to the dimensional ambiguities in the CGS susbsystems.\"\n",
    "\n",
    "\"<hr><font size=7><br>&tau;\\u03BF &tau;&epsilon;&lambda;\\u03BF&varsigma;.<br></font>\"\n"
   ]
  },
  {
   "cell_type": "code",
   "execution_count": null,
   "metadata": {},
   "outputs": [],
   "source": []
  }
 ],
 "metadata": {
  "kernelspec": {
   "display_name": "DACalculator",
   "language": "dacalc",
   "name": "dacalc"
  },
  "language_info": {
   "file_extension": ".da",
   "mimetype": "text/plain",
   "name": "dacalc"
  }
 },
 "nbformat": 4,
 "nbformat_minor": 4
}
